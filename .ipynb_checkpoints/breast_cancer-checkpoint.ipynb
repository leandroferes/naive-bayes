{
 "cells": [
  {
   "cell_type": "markdown",
   "metadata": {},
   "source": [
    "O dataset escolhido para o trabalho foi o arquivo Weka-3-8\\data\\breast-cancer.arff, contido na instalação do Weka. A feature utilziada como label foi justamente aquela chamada de class, que assume dois valores possíveis: recurrence-events e no-recurrence-events.\n",
    "\n",
    "O scikit learn possui basicamente 3 implementações para Naive Bayes:\n",
    "\n",
    "* Naive Bayes Gaussiano\n",
    "* Naive Bayes Multinomial (com a \"variação\" Complemento )\n",
    "* Naive Bayes Bernoulli\n",
    "\n",
    "Tanto o Multinomial, quanto o Bernoulli, são adequados para dados discretos. Bernoulli, entretanto, é projeto para features binárias. \n",
    "\n",
    "Na execução no Weka, tivemos o seguinte resultado (utilizando k-fold cross validation):\n",
    "\n",
    "```\n",
    "=== Summary ===\n",
    "\n",
    "Correctly Classified Instances         205               71.6783 %\n",
    "Incorrectly Classified Instances        81               28.3217 %\n",
    "Kappa statistic                          0.2857\n",
    "Mean absolute error                      0.3272\n",
    "Root mean squared error                  0.4534\n",
    "Relative absolute error                 78.2086 %\n",
    "Root relative squared error             99.1872 %\n",
    "Total Number of Instances              286     \n",
    "\n",
    "=== Detailed Accuracy By Class ===\n",
    "\n",
    "                 TP Rate  FP Rate  Precision  Recall   F-Measure  MCC      ROC Area  PRC Area  Class\n",
    "                 0,836    0,565    0,778      0,836    0,806      0,288    0,701     0,837     no-recurrence-events\n",
    "                 0,435    0,164    0,529      0,435    0,477      0,288    0,701     0,514     recurrence-events\n",
    "Weighted Avg.    0,717    0,446    0,704      0,717    0,708      0,288    0,701     0,741     \n",
    "\n",
    "=== Confusion Matrix ===\n",
    "\n",
    "   a   b   <-- classified as\n",
    " 168  33 |   a = no-recurrence-events\n",
    "  48  37 |   b = recurrence-events\n",
    "```"
   ]
  },
  {
   "cell_type": "code",
   "execution_count": 1,
   "metadata": {},
   "outputs": [],
   "source": [
    "import pandas as pd\n",
    "from sklearn.model_selection import train_test_split\n",
    "from sklearn.naive_bayes import BernoulliNB"
   ]
  },
  {
   "cell_type": "code",
   "execution_count": 2,
   "metadata": {},
   "outputs": [
    {
     "name": "stdout",
     "output_type": "stream",
     "text": [
      "       age menopause tumor-size inv-nodes node-caps  deg-malig breast  \\\n",
      "0    40-49   premeno      15-19       0-2       yes          3  right   \n",
      "1    50-59      ge40      15-19       0-2        no          1  right   \n",
      "2    50-59      ge40      35-39       0-2        no          2   left   \n",
      "3    40-49   premeno      35-39       0-2       yes          3  right   \n",
      "4    40-49   premeno      30-34       3-5       yes          2   left   \n",
      "5    50-59   premeno      25-29       3-5        no          2  right   \n",
      "6    50-59      ge40      40-44       0-2        no          3   left   \n",
      "7    40-49   premeno      10-14       0-2        no          2   left   \n",
      "8    40-49   premeno        0-4       0-2        no          2  right   \n",
      "9    40-49      ge40      40-44     15-17       yes          2  right   \n",
      "10   50-59   premeno      25-29       0-2        no          2   left   \n",
      "11   60-69      ge40      15-19       0-2        no          2  right   \n",
      "12   50-59      ge40      30-34       0-2        no          1  right   \n",
      "13   50-59      ge40      25-29       0-2        no          2  right   \n",
      "14   40-49   premeno      25-29       0-2        no          2   left   \n",
      "15   30-39   premeno      20-24       0-2        no          3   left   \n",
      "16   50-59   premeno      10-14       3-5        no          1  right   \n",
      "17   60-69      ge40      15-19       0-2        no          2  right   \n",
      "18   50-59   premeno      40-44       0-2        no          2   left   \n",
      "19   50-59      ge40      20-24       0-2        no          3   left   \n",
      "20   50-59      lt40      20-24       0-2         ?          1   left   \n",
      "21   60-69      ge40      40-44       3-5        no          2  right   \n",
      "22   50-59      ge40      15-19       0-2        no          2  right   \n",
      "23   40-49   premeno      10-14       0-2        no          1  right   \n",
      "24   30-39   premeno      15-19       6-8       yes          3   left   \n",
      "25   50-59      ge40      20-24       3-5       yes          2  right   \n",
      "26   50-59      ge40      10-14       0-2        no          2  right   \n",
      "27   40-49   premeno      10-14       0-2        no          1  right   \n",
      "28   60-69      ge40      30-34       3-5       yes          3   left   \n",
      "29   40-49   premeno      15-19     15-17       yes          3   left   \n",
      "..     ...       ...        ...       ...       ...        ...    ...   \n",
      "256  50-59      ge40      40-44       0-2        no          2   left   \n",
      "257  60-69      ge40      25-29       0-2        no          3   left   \n",
      "258  40-49   premeno      30-34       3-5       yes          2  right   \n",
      "259  50-59      ge40      20-24       0-2        no          2   left   \n",
      "260  70-79      ge40      20-24       0-2        no          3   left   \n",
      "261  30-39   premeno      25-29       0-2        no          1   left   \n",
      "262  60-69      ge40      30-34       0-2        no          2   left   \n",
      "263  40-49   premeno      20-24       3-5       yes          2  right   \n",
      "264  50-59      ge40      30-34      9-11         ?          3   left   \n",
      "265  50-59      ge40        0-4       0-2        no          2   left   \n",
      "266  40-49   premeno      20-24       0-2        no          3  right   \n",
      "267  30-39   premeno      35-39       0-2        no          3   left   \n",
      "268  60-69      ge40      30-34       0-2        no          1   left   \n",
      "269  60-69      ge40      20-24       0-2        no          1   left   \n",
      "270  50-59      ge40      25-29       6-8        no          3   left   \n",
      "271  50-59   premeno      35-39     15-17       yes          3  right   \n",
      "272  30-39   premeno      20-24       3-5       yes          2  right   \n",
      "273  40-49   premeno      20-24       6-8        no          2  right   \n",
      "274  50-59      ge40      35-39       0-2        no          3   left   \n",
      "275  50-59   premeno      35-39       0-2        no          2  right   \n",
      "276  40-49   premeno      25-29       0-2        no          2   left   \n",
      "277  40-49   premeno      35-39       0-2        no          2  right   \n",
      "278  50-59   premeno      30-34       3-5       yes          2   left   \n",
      "279  40-49   premeno      20-24       0-2        no          2  right   \n",
      "280  60-69      ge40      15-19       0-2        no          3  right   \n",
      "281  50-59      ge40      30-34       6-8       yes          2   left   \n",
      "282  50-59   premeno      25-29       3-5       yes          2   left   \n",
      "283  30-39   premeno      30-34       6-8       yes          2  right   \n",
      "284  50-59   premeno      15-19       0-2        no          2  right   \n",
      "285  50-59      ge40      40-44       0-2        no          3   left   \n",
      "\n",
      "    breast-quad irradiat                 class  \n",
      "0       left_up       no     recurrence-events  \n",
      "1       central       no  no-recurrence-events  \n",
      "2      left_low       no     recurrence-events  \n",
      "3      left_low      yes  no-recurrence-events  \n",
      "4      right_up       no     recurrence-events  \n",
      "5       left_up      yes  no-recurrence-events  \n",
      "6       left_up       no  no-recurrence-events  \n",
      "7       left_up       no  no-recurrence-events  \n",
      "8     right_low       no  no-recurrence-events  \n",
      "9       left_up      yes  no-recurrence-events  \n",
      "10     left_low       no  no-recurrence-events  \n",
      "11      left_up       no  no-recurrence-events  \n",
      "12      central       no  no-recurrence-events  \n",
      "13      left_up       no  no-recurrence-events  \n",
      "14     left_low      yes     recurrence-events  \n",
      "15      central       no  no-recurrence-events  \n",
      "16      left_up       no  no-recurrence-events  \n",
      "17      left_up       no  no-recurrence-events  \n",
      "18      left_up       no  no-recurrence-events  \n",
      "19      left_up       no  no-recurrence-events  \n",
      "20     left_low       no     recurrence-events  \n",
      "21      left_up      yes  no-recurrence-events  \n",
      "22     left_low       no  no-recurrence-events  \n",
      "23      left_up       no  no-recurrence-events  \n",
      "24     left_low      yes     recurrence-events  \n",
      "25      left_up       no  no-recurrence-events  \n",
      "26     left_low       no  no-recurrence-events  \n",
      "27      left_up       no  no-recurrence-events  \n",
      "28     left_low       no  no-recurrence-events  \n",
      "29     left_low       no     recurrence-events  \n",
      "..          ...      ...                   ...  \n",
      "256    left_low       no  no-recurrence-events  \n",
      "257   right_low      yes     recurrence-events  \n",
      "258    left_low       no  no-recurrence-events  \n",
      "259     left_up       no     recurrence-events  \n",
      "260     left_up       no  no-recurrence-events  \n",
      "261     central       no  no-recurrence-events  \n",
      "262    left_low       no  no-recurrence-events  \n",
      "263    right_up      yes     recurrence-events  \n",
      "264    left_low      yes  no-recurrence-events  \n",
      "265     central       no  no-recurrence-events  \n",
      "266    left_low      yes  no-recurrence-events  \n",
      "267    left_low       no     recurrence-events  \n",
      "268     left_up       no  no-recurrence-events  \n",
      "269    left_low       no  no-recurrence-events  \n",
      "270    left_low      yes     recurrence-events  \n",
      "271    right_up       no     recurrence-events  \n",
      "272     left_up      yes  no-recurrence-events  \n",
      "273    left_low      yes  no-recurrence-events  \n",
      "274    left_low       no  no-recurrence-events  \n",
      "275     left_up       no  no-recurrence-events  \n",
      "276     left_up      yes  no-recurrence-events  \n",
      "277    right_up       no  no-recurrence-events  \n",
      "278    left_low      yes  no-recurrence-events  \n",
      "279    right_up       no  no-recurrence-events  \n",
      "280     left_up      yes  no-recurrence-events  \n",
      "281    left_low       no  no-recurrence-events  \n",
      "282    left_low      yes  no-recurrence-events  \n",
      "283    right_up       no  no-recurrence-events  \n",
      "284    left_low       no  no-recurrence-events  \n",
      "285    right_up       no  no-recurrence-events  \n",
      "\n",
      "[286 rows x 10 columns]\n"
     ]
    }
   ],
   "source": [
    "data = pd.read_csv('breast.csv')\n",
    "print(data)"
   ]
  },
  {
   "cell_type": "markdown",
   "metadata": {},
   "source": [
    "Os dados são mapeados para valores numéricos, para que funcionem com a implementação em questão. Há linhas com o valor '?', ou seja, desconhecido, em diversas colunas. Optei por remover essas linhas, uma vez que algum valor deve ser informado (a implementação não trabalha com valores None, ou seja, NaN)."
   ]
  },
  {
   "cell_type": "code",
   "execution_count": 3,
   "metadata": {},
   "outputs": [
    {
     "name": "stdout",
     "output_type": "stream",
     "text": [
      "(286, 10)\n",
      "(277, 10)\n"
     ]
    }
   ],
   "source": [
    "age_mapping={'10-19':1,'20-29':2,'30-39':3,'40-49':4,'50-59':5,'60-69':6,'70-79':7,'80-89':8,'90-99':9,'?':None}\n",
    "menopause_mapping={'lt40':1,'ge40':2,'premeno':3,'?':None}\n",
    "tumor_size_mapping={'0-4':1,'5-9':2,'10-14':3,'15-19':4,'20-24':5,'25-29':6,'30-34':7,'35-39':8,'40-44':9,'45-49':10,'50-54':11,'55-59':12,'?':None}\n",
    "inv_nodes_mapping={'0-2':1,'3-5':2,'6-8':3,'9-11':4,'12-14':5,'15-17':6,'18-20':7,'21-23':8,'24-26':9,'27-29':10,'30-32':11,'33-35':12,'36-39':13,'?':None}\n",
    "node_caps_mapping={'yes':1,'no':0,'?':None}\n",
    "deg_malig_mapping={'1':1,'2':2,'3':3,'?':None}\n",
    "breast_mapping={'left':1,'right':2,'?':None}\n",
    "breast_quad_mapping={'left_up':1,'left_low':2,'right_up':3,'right_low':4,'central':5,'?':None}\n",
    "irradiat_mapping={'yes':1,'no':0,'?':None}\n",
    "clazz_mapping={'no-recurrence-events':0,'recurrence-events':1,'?':None}\n",
    "\n",
    "numerical_data=data.replace({'age':age_mapping,\n",
    "              'menopause':menopause_mapping,\n",
    "              'tumor-size':tumor_size_mapping,\n",
    "              'inv-nodes':inv_nodes_mapping,\n",
    "              'node-caps':node_caps_mapping,\n",
    "              'breast':breast_mapping,\n",
    "              'breast-quad':breast_quad_mapping,\n",
    "              'irradiat':irradiat_mapping,\n",
    "              'class':clazz_mapping})\n",
    "\n",
    "print(numerical_data.shape)\n",
    "\n",
    "numerical_data=numerical_data.dropna()\n",
    "\n",
    "print(numerical_data.shape)"
   ]
  },
  {
   "cell_type": "markdown",
   "metadata": {},
   "source": [
    "Separação dos dados em dados de treinamento e dados de teste."
   ]
  },
  {
   "cell_type": "code",
   "execution_count": 4,
   "metadata": {},
   "outputs": [],
   "source": [
    "X = numerical_data.iloc[:,:-1]\n",
    "y = numerical_data.iloc[:,-1]\n",
    "\n",
    "X_train, X_test, y_train, y_test = train_test_split(X, y, test_size=0.20, random_state=42)"
   ]
  },
  {
   "cell_type": "code",
   "execution_count": 5,
   "metadata": {},
   "outputs": [
    {
     "data": {
      "text/plain": [
       "BernoulliNB(alpha=1.0, binarize=0.0, class_prior=None, fit_prior=True)"
      ]
     },
     "execution_count": 5,
     "metadata": {},
     "output_type": "execute_result"
    }
   ],
   "source": [
    "clf = BernoulliNB()\n",
    "clf.fit(X_train, y_train.astype('int'))"
   ]
  },
  {
   "cell_type": "markdown",
   "metadata": {},
   "source": [
    "Abaixo a acurácia média do treinamento: aproximadamente 67,8571%. A acurácia do executado pelo Weka foi de 71,6783%. A diferença foi inferior a 5% e pode ter sido causada tanto pelo tratamento dos dados, com exclusão das linhas com valores desconhecidos, como pela própria implementação do algoritmo (ou ambos)."
   ]
  },
  {
   "cell_type": "code",
   "execution_count": 6,
   "metadata": {},
   "outputs": [
    {
     "data": {
      "text/plain": [
       "0.6785714285714286"
      ]
     },
     "execution_count": 6,
     "metadata": {},
     "output_type": "execute_result"
    }
   ],
   "source": [
    "clf.score(X_test, y_test.astype('int'))"
   ]
  }
 ],
 "metadata": {
  "kernelspec": {
   "display_name": "Python 3",
   "language": "python",
   "name": "python3"
  },
  "language_info": {
   "codemirror_mode": {
    "name": "ipython",
    "version": 3
   },
   "file_extension": ".py",
   "mimetype": "text/x-python",
   "name": "python",
   "nbconvert_exporter": "python",
   "pygments_lexer": "ipython3",
   "version": "3.7.3"
  }
 },
 "nbformat": 4,
 "nbformat_minor": 2
}
